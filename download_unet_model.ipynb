{
  "nbformat": 4,
  "nbformat_minor": 0,
  "metadata": {
    "colab": {
      "provenance": []
    },
    "kernelspec": {
      "name": "python3",
      "display_name": "Python 3"
    },
    "language_info": {
      "name": "python"
    }
  },
  "cells": [
    {
      "cell_type": "code",
      "execution_count": 2,
      "metadata": {
        "colab": {
          "base_uri": "https://localhost:8080/"
        },
        "id": "EEdEoXF4lxql",
        "outputId": "b9819a94-212b-4184-a47f-0f79799f22cd"
      },
      "outputs": [
        {
          "output_type": "stream",
          "name": "stderr",
          "text": [
            "/usr/local/lib/python3.11/dist-packages/gdown/parse_url.py:48: UserWarning: You specified a Google Drive link that is not the correct link to download a file. You might want to try `--fuzzy` option or the following url: https://drive.google.com/uc?id=1pjKT-Zxa-9kTlmKN5d0DjdLMvOcX72NM\n",
            "  warnings.warn(\n",
            "Downloading...\n",
            "From: https://drive.google.com/file/d/1pjKT-Zxa-9kTlmKN5d0DjdLMvOcX72NM/view?usp=sharing\n",
            "To: /content/unet_model.pth\n",
            "102kB [00:00, 20.7MB/s]"
          ]
        },
        {
          "output_type": "stream",
          "name": "stdout",
          "text": [
            "Model file unet_model.pth has been downloaded successfully!\n"
          ]
        },
        {
          "output_type": "stream",
          "name": "stderr",
          "text": [
            "\n"
          ]
        }
      ],
      "source": [
        "import gdown\n",
        "\n",
        "# Download model from Google Drive\n",
        "url = 'https://drive.google.com/file/d/1pjKT-Zxa-9kTlmKN5d0DjdLMvOcX72NM/view?usp=sharing'  # Replace with your direct link\n",
        "output = 'unet_model.pth'\n",
        "gdown.download(url, output, quiet=False)\n",
        "\n",
        "print(\"Model file unet_model.pth has been downloaded successfully!\")"
      ]
    }
  ]
}